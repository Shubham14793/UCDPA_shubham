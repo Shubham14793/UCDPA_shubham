{
 "cells": [
  {
   "cell_type": "code",
   "execution_count": 12,
   "id": "8702aac7",
   "metadata": {},
   "outputs": [],
   "source": [
    "import pandas as pd\n",
    "import requests\n",
    "import json\n",
    "import re"
   ]
  },
  {
   "cell_type": "raw",
   "id": "65a53fcb",
   "metadata": {
    "scrolled": true
   },
   "source": [
    "# capture the api url of the data source\n",
    "data_url = 'https://randomuser.me/api/'\n",
    "\n",
    "#trigger the request\n",
    "userData = requests.get(data_url)\n"
   ]
  },
  {
   "cell_type": "code",
   "execution_count": 14,
   "id": "402b9758",
   "metadata": {
    "scrolled": true
   },
   "outputs": [
    {
     "data": {
      "text/plain": [
       "{'results': [{'gender': 'male',\n",
       "   'name': {'title': 'Mr', 'first': 'Soncedar', 'last': 'Lemishka'},\n",
       "   'location': {'street': {'number': 7366, 'name': 'Pogidna'},\n",
       "    'city': 'Ternivka',\n",
       "    'state': 'Ivano-Frankivska',\n",
       "    'country': 'Ukraine',\n",
       "    'postcode': 87250,\n",
       "    'coordinates': {'latitude': '80.7802', 'longitude': '-144.0202'},\n",
       "    'timezone': {'offset': '-5:00',\n",
       "     'description': 'Eastern Time (US & Canada), Bogota, Lima'}},\n",
       "   'email': 'soncedar.lemishka@example.com',\n",
       "   'login': {'uuid': 'd73b3d5d-d341-4dc4-b9e5-b9cc2b502363',\n",
       "    'username': 'whitegoose727',\n",
       "    'password': 'minemine',\n",
       "    'salt': '3mseZUt8',\n",
       "    'md5': '619660d15fb0bceb7aa52aedca573f4d',\n",
       "    'sha1': '245a52e3ad1a9cc12626b29a07eaf84a712a1025',\n",
       "    'sha256': 'abaa410655a3515dec9086ab7890d8c6d710dabc01f0651318368d2cd7cc3823'},\n",
       "   'dob': {'date': '1979-04-18T14:30:41.489Z', 'age': 43},\n",
       "   'registered': {'date': '2017-07-30T23:40:34.179Z', 'age': 5},\n",
       "   'phone': '(066) T30-1142',\n",
       "   'cell': '(066) D65-3313',\n",
       "   'id': {'name': '', 'value': None},\n",
       "   'picture': {'large': 'https://randomuser.me/api/portraits/men/80.jpg',\n",
       "    'medium': 'https://randomuser.me/api/portraits/med/men/80.jpg',\n",
       "    'thumbnail': 'https://randomuser.me/api/portraits/thumb/men/80.jpg'},\n",
       "   'nat': 'UA'}],\n",
       " 'info': {'seed': 'a5bf8f6f9fa132c2',\n",
       "  'results': 1,\n",
       "  'page': 1,\n",
       "  'version': '1.4'}}"
      ]
     },
     "execution_count": 14,
     "metadata": {},
     "output_type": "execute_result"
    }
   ],
   "source": [
    "# beautify the response captured\n",
    "beautified_userData = userData.json()\n",
    "\n",
    "# display the beautified code\n",
    "beautified_userData"
   ]
  },
  {
   "cell_type": "code",
   "execution_count": 15,
   "id": "125d3d50",
   "metadata": {},
   "outputs": [],
   "source": [
    "# process the data received from api\n",
    "\n",
    "responseText = json.loads(userData.text)\n",
    "regexString = json.dumps(responseText)"
   ]
  },
  {
   "cell_type": "code",
   "execution_count": 16,
   "id": "e9f7e88a",
   "metadata": {
    "scrolled": true
   },
   "outputs": [
    {
     "data": {
      "text/plain": [
       "['https://randomuser.me/api/portraits/men/80.jpg',\n",
       " 'https://randomuser.me/api/portraits/med/men/80.jpg',\n",
       " 'https://randomuser.me/api/portraits/thumb/men/80.jpg']"
      ]
     },
     "execution_count": 16,
     "metadata": {},
     "output_type": "execute_result"
    }
   ],
   "source": [
    "# creating a function that extracts the profile pic of the user from the api response\n",
    "# this function uses a regular expression to match a pattern to extract data\n",
    "\n",
    "def getUserProfileImages (targetData=\"\"):\n",
    "    if len(targetData) == 0:\n",
    "        return [];\n",
    "    regexPattern = '[a-z]{5}://\\S*[.jpg]'\n",
    "    return re.findall(regexPattern, targetData)\n",
    "\n",
    "getUserProfileImages(regexString)"
   ]
  },
  {
   "cell_type": "code",
   "execution_count": 17,
   "id": "5558c392",
   "metadata": {
    "scrolled": true
   },
   "outputs": [
    {
     "data": {
      "text/plain": [
       "[{'gender': 'male',\n",
       "  'name': {'title': 'Mr', 'first': 'Soncedar', 'last': 'Lemishka'},\n",
       "  'location': {'street': {'number': 7366, 'name': 'Pogidna'},\n",
       "   'city': 'Ternivka',\n",
       "   'state': 'Ivano-Frankivska',\n",
       "   'country': 'Ukraine',\n",
       "   'postcode': 87250,\n",
       "   'coordinates': {'latitude': '80.7802', 'longitude': '-144.0202'},\n",
       "   'timezone': {'offset': '-5:00',\n",
       "    'description': 'Eastern Time (US & Canada), Bogota, Lima'}},\n",
       "  'email': 'soncedar.lemishka@example.com',\n",
       "  'login': {'uuid': 'd73b3d5d-d341-4dc4-b9e5-b9cc2b502363',\n",
       "   'username': 'whitegoose727',\n",
       "   'password': 'minemine',\n",
       "   'salt': '3mseZUt8',\n",
       "   'md5': '619660d15fb0bceb7aa52aedca573f4d',\n",
       "   'sha1': '245a52e3ad1a9cc12626b29a07eaf84a712a1025',\n",
       "   'sha256': 'abaa410655a3515dec9086ab7890d8c6d710dabc01f0651318368d2cd7cc3823'},\n",
       "  'dob': {'date': '1979-04-18T14:30:41.489Z', 'age': 43},\n",
       "  'registered': {'date': '2017-07-30T23:40:34.179Z', 'age': 5},\n",
       "  'phone': '(066) T30-1142',\n",
       "  'cell': '(066) D65-3313',\n",
       "  'id': {'name': '', 'value': None},\n",
       "  'picture': {'large': 'https://randomuser.me/api/portraits/men/80.jpg',\n",
       "   'medium': 'https://randomuser.me/api/portraits/med/men/80.jpg',\n",
       "   'thumbnail': 'https://randomuser.me/api/portraits/thumb/men/80.jpg'},\n",
       "  'nat': 'UA'}]"
      ]
     },
     "execution_count": 17,
     "metadata": {},
     "output_type": "execute_result"
    }
   ],
   "source": [
    "# creating a dictionary object of the api response to process the rest of the user data\n",
    "\n",
    "personObject = dict(userData.json())\n",
    "\n",
    "personObject[\"results\"]"
   ]
  },
  {
   "cell_type": "code",
   "execution_count": 68,
   "id": "13c0e979",
   "metadata": {},
   "outputs": [
    {
     "data": {
      "text/plain": [
       "'male'"
      ]
     },
     "execution_count": 68,
     "metadata": {},
     "output_type": "execute_result"
    }
   ],
   "source": [
    "userDetails = dict(personObject[\"results\"][0])\n",
    "\n",
    "userDetails[\"gender\"]"
   ]
  },
  {
   "cell_type": "code",
   "execution_count": 72,
   "id": "98793713",
   "metadata": {},
   "outputs": [
    {
     "data": {
      "text/plain": [
       "{'name': {'title': 'Mr', 'first': 'Zakaria', 'last': 'Smakman'},\n",
       " 'gender': 'male',\n",
       " 'email': 'zakaria.smakman@example.com',\n",
       " 'phone': '(0754) 800710'}"
      ]
     },
     "execution_count": 72,
     "metadata": {},
     "output_type": "execute_result"
    }
   ],
   "source": [
    "personalDetailList = list((\"name\", \"gender\", \"email\", \"phone\"))\n",
    "\n",
    "def extractPersonalDetailsData (personalDetailList, userData):\n",
    "    personalDetailsMappings = {}\n",
    "    for pdl in personalDetailList:\n",
    "        personalDetailsMappings[pdl] = userData[pdl]\n",
    "    return personalDetailsMappings\n",
    "extractPersonalDetailsData(personalDetailList, userDetails)"
   ]
  },
  {
   "cell_type": "code",
   "execution_count": null,
   "id": "59e66dd5",
   "metadata": {},
   "outputs": [],
   "source": []
  }
 ],
 "metadata": {
  "kernelspec": {
   "display_name": "Python 3 (ipykernel)",
   "language": "python",
   "name": "python3"
  },
  "language_info": {
   "codemirror_mode": {
    "name": "ipython",
    "version": 3
   },
   "file_extension": ".py",
   "mimetype": "text/x-python",
   "name": "python",
   "nbconvert_exporter": "python",
   "pygments_lexer": "ipython3",
   "version": "3.9.12"
  }
 },
 "nbformat": 4,
 "nbformat_minor": 5
}
