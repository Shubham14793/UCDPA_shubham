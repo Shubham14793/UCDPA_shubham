{
 "cells": [
  {
   "cell_type": "code",
   "execution_count": 49,
   "id": "8702aac7",
   "metadata": {},
   "outputs": [],
   "source": [
    "import pandas as pd\n",
    "import requests\n",
    "import json\n",
    "import re"
   ]
  },
  {
   "cell_type": "code",
   "execution_count": 50,
   "id": "ec86c6a6",
   "metadata": {
    "scrolled": true
   },
   "outputs": [],
   "source": [
    "# capture the api url of the data source\n",
    "data_url = 'https://randomuser.me/api/'\n",
    "\n",
    "#trigger the request\n",
    "userData = requests.get(data_url)\n"
   ]
  },
  {
   "cell_type": "code",
   "execution_count": 51,
   "id": "402b9758",
   "metadata": {
    "scrolled": true
   },
   "outputs": [
    {
     "data": {
      "text/plain": [
       "{'results': [{'gender': 'male',\n",
       "   'name': {'title': 'Mr', 'first': 'Zakaria', 'last': 'Smakman'},\n",
       "   'location': {'street': {'number': 4024, 'name': 'Beukestraat'},\n",
       "    'city': 'Dalfsen',\n",
       "    'state': 'Zuid-Holland',\n",
       "    'country': 'Netherlands',\n",
       "    'postcode': '8398 TS',\n",
       "    'coordinates': {'latitude': '37.0186', 'longitude': '-109.4313'},\n",
       "    'timezone': {'offset': '-9:00', 'description': 'Alaska'}},\n",
       "   'email': 'zakaria.smakman@example.com',\n",
       "   'login': {'uuid': 'fa2622fc-1b0a-4d11-819e-0e1e189a3846',\n",
       "    'username': 'organicwolf108',\n",
       "    'password': 'abraham',\n",
       "    'salt': 'eUbQ3ggV',\n",
       "    'md5': '450cb4390d8971575e67b1fcff173391',\n",
       "    'sha1': 'a31533d608e2f7e6422652cb5a40023e7e23e7fe',\n",
       "    'sha256': '46b8aada39f5948411721f97644f69b2beed0139cb250504b0b22e4fb541c302'},\n",
       "   'dob': {'date': '1997-03-16T09:45:00.145Z', 'age': 25},\n",
       "   'registered': {'date': '2004-03-18T18:17:01.329Z', 'age': 18},\n",
       "   'phone': '(0754) 800710',\n",
       "   'cell': '(06) 01117764',\n",
       "   'id': {'name': 'BSN', 'value': '04122992'},\n",
       "   'picture': {'large': 'https://randomuser.me/api/portraits/men/88.jpg',\n",
       "    'medium': 'https://randomuser.me/api/portraits/med/men/88.jpg',\n",
       "    'thumbnail': 'https://randomuser.me/api/portraits/thumb/men/88.jpg'},\n",
       "   'nat': 'NL'}],\n",
       " 'info': {'seed': '5fd597578e62cd04',\n",
       "  'results': 1,\n",
       "  'page': 1,\n",
       "  'version': '1.4'}}"
      ]
     },
     "execution_count": 51,
     "metadata": {},
     "output_type": "execute_result"
    }
   ],
   "source": [
    "# beautify the response captured\n",
    "beautified_userData = userData.json()\n",
    "\n",
    "# display the beautified code\n",
    "beautified_userData"
   ]
  },
  {
   "cell_type": "code",
   "execution_count": 52,
   "id": "125d3d50",
   "metadata": {},
   "outputs": [],
   "source": [
    "# process the data received from api\n",
    "\n",
    "responseText = json.loads(userData.text)\n",
    "regexString = json.dumps(responseText)"
   ]
  },
  {
   "cell_type": "code",
   "execution_count": 58,
   "id": "e9f7e88a",
   "metadata": {
    "scrolled": true
   },
   "outputs": [
    {
     "data": {
      "text/plain": [
       "['https://randomuser.me/api/portraits/men/88.jpg',\n",
       " 'https://randomuser.me/api/portraits/med/men/88.jpg',\n",
       " 'https://randomuser.me/api/portraits/thumb/men/88.jpg']"
      ]
     },
     "execution_count": 58,
     "metadata": {},
     "output_type": "execute_result"
    }
   ],
   "source": [
    "# creating a function that extracts the profile pic of the user from the api response\n",
    "# this function uses a regular expression to match a pattern to extract data\n",
    "\n",
    "def getUserProfileImages (targetData=\"\"):\n",
    "    if len(targetData) == 0:\n",
    "        return [];\n",
    "    regexPattern = '[a-z]{5}://\\S*[.jpg]'\n",
    "    return re.findall(regexPattern, targetData)\n",
    "\n",
    "getUserProfileImages(regexString)"
   ]
  },
  {
   "cell_type": "code",
   "execution_count": 67,
   "id": "5558c392",
   "metadata": {
    "scrolled": true
   },
   "outputs": [
    {
     "data": {
      "text/plain": [
       "[{'gender': 'male',\n",
       "  'name': {'title': 'Mr', 'first': 'Zakaria', 'last': 'Smakman'},\n",
       "  'location': {'street': {'number': 4024, 'name': 'Beukestraat'},\n",
       "   'city': 'Dalfsen',\n",
       "   'state': 'Zuid-Holland',\n",
       "   'country': 'Netherlands',\n",
       "   'postcode': '8398 TS',\n",
       "   'coordinates': {'latitude': '37.0186', 'longitude': '-109.4313'},\n",
       "   'timezone': {'offset': '-9:00', 'description': 'Alaska'}},\n",
       "  'email': 'zakaria.smakman@example.com',\n",
       "  'login': {'uuid': 'fa2622fc-1b0a-4d11-819e-0e1e189a3846',\n",
       "   'username': 'organicwolf108',\n",
       "   'password': 'abraham',\n",
       "   'salt': 'eUbQ3ggV',\n",
       "   'md5': '450cb4390d8971575e67b1fcff173391',\n",
       "   'sha1': 'a31533d608e2f7e6422652cb5a40023e7e23e7fe',\n",
       "   'sha256': '46b8aada39f5948411721f97644f69b2beed0139cb250504b0b22e4fb541c302'},\n",
       "  'dob': {'date': '1997-03-16T09:45:00.145Z', 'age': 25},\n",
       "  'registered': {'date': '2004-03-18T18:17:01.329Z', 'age': 18},\n",
       "  'phone': '(0754) 800710',\n",
       "  'cell': '(06) 01117764',\n",
       "  'id': {'name': 'BSN', 'value': '04122992'},\n",
       "  'picture': {'large': 'https://randomuser.me/api/portraits/men/88.jpg',\n",
       "   'medium': 'https://randomuser.me/api/portraits/med/men/88.jpg',\n",
       "   'thumbnail': 'https://randomuser.me/api/portraits/thumb/men/88.jpg'},\n",
       "  'nat': 'NL'}]"
      ]
     },
     "execution_count": 67,
     "metadata": {},
     "output_type": "execute_result"
    }
   ],
   "source": [
    "# creating a dictionary object of the api response to process the rest of the user data\n",
    "\n",
    "personObject = dict(userData.json())\n",
    "\n",
    "personObject[\"results\"]"
   ]
  },
  {
   "cell_type": "code",
   "execution_count": 68,
   "id": "13c0e979",
   "metadata": {},
   "outputs": [
    {
     "data": {
      "text/plain": [
       "'male'"
      ]
     },
     "execution_count": 68,
     "metadata": {},
     "output_type": "execute_result"
    }
   ],
   "source": [
    "userDetails = dict(personObject[\"results\"][0])\n",
    "\n",
    "userDetails[\"gender\"]"
   ]
  },
  {
   "cell_type": "code",
   "execution_count": 72,
   "id": "98793713",
   "metadata": {},
   "outputs": [
    {
     "data": {
      "text/plain": [
       "{'name': {'title': 'Mr', 'first': 'Zakaria', 'last': 'Smakman'},\n",
       " 'gender': 'male',\n",
       " 'email': 'zakaria.smakman@example.com',\n",
       " 'phone': '(0754) 800710'}"
      ]
     },
     "execution_count": 72,
     "metadata": {},
     "output_type": "execute_result"
    }
   ],
   "source": [
    "personalDetailList = list((\"name\", \"gender\", \"email\", \"phone\"))\n",
    "\n",
    "def extractPersonalDetailsData (personalDetailList, userData):\n",
    "    personalDetailsMappings = {}\n",
    "    for pdl in personalDetailList:\n",
    "        personalDetailsMappings[pdl] = userData[pdl]\n",
    "    return personalDetailsMappings\n",
    "extractPersonalDetailsData(personalDetailList, userDetails)"
   ]
  },
  {
   "cell_type": "code",
   "execution_count": null,
   "id": "59e66dd5",
   "metadata": {},
   "outputs": [],
   "source": []
  }
 ],
 "metadata": {
  "kernelspec": {
   "display_name": "Python 3 (ipykernel)",
   "language": "python",
   "name": "python3"
  },
  "language_info": {
   "codemirror_mode": {
    "name": "ipython",
    "version": 3
   },
   "file_extension": ".py",
   "mimetype": "text/x-python",
   "name": "python",
   "nbconvert_exporter": "python",
   "pygments_lexer": "ipython3",
   "version": "3.9.12"
  }
 },
 "nbformat": 4,
 "nbformat_minor": 5
}
